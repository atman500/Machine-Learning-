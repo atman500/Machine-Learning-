{
 "cells": [
  {
   "cell_type": "code",
   "execution_count": 4,
   "id": "d96ab81c",
   "metadata": {},
   "outputs": [],
   "source": [
    "import pandas as pd"
   ]
  },
  {
   "cell_type": "code",
   "execution_count": 5,
   "id": "3c7bb989",
   "metadata": {},
   "outputs": [
    {
     "name": "stdout",
     "output_type": "stream",
     "text": [
      "  Department  ExperienceYears  TrainingHours  PerformanceScore\n",
      "0         HR              5.4             19              20.0\n",
      "1      Sales              2.6             18              25.8\n",
      "2      Sales              4.5             29              20.2\n",
      "3      Sales              0.9             31              24.2\n",
      "4      Sales              2.1             19              20.0\n"
     ]
    }
   ],
   "source": [
    "data=pd.read_csv('manag.csv',sep=';')\n",
    "print(data.head())"
   ]
  },
  {
   "cell_type": "code",
   "execution_count": 7,
   "id": "fb21d179",
   "metadata": {},
   "outputs": [
    {
     "name": "stdout",
     "output_type": "stream",
     "text": [
      "   ExperienceYears  TrainingHours\n",
      "0              5.4             19\n",
      "1              2.6             18\n",
      "2              4.5             29\n",
      "3              0.9             31\n",
      "4              2.1             19\n"
     ]
    }
   ],
   "source": [
    "X=data[['ExperienceYears','TrainingHours']]\n",
    "print(X.head())"
   ]
  },
  {
   "cell_type": "code",
   "execution_count": 8,
   "id": "e45ce875",
   "metadata": {},
   "outputs": [
    {
     "name": "stdout",
     "output_type": "stream",
     "text": [
      "0    20.0\n",
      "1    25.8\n",
      "2    20.2\n",
      "3    24.2\n",
      "4    20.0\n",
      "Name: PerformanceScore, dtype: float64\n"
     ]
    }
   ],
   "source": [
    "Y=data['PerformanceScore']\n",
    "print(Y.head())"
   ]
  },
  {
   "cell_type": "code",
   "execution_count": 9,
   "id": "a845d076",
   "metadata": {},
   "outputs": [],
   "source": [
    "import statsmodels.api as sm"
   ]
  },
  {
   "cell_type": "code",
   "execution_count": 11,
   "id": "0b7719ac",
   "metadata": {},
   "outputs": [],
   "source": [
    "#developing the Linear regression model\n",
    "X=sm.add_constant(X)\n",
    "regression_model=sm.OLS(Y,X).fit()\n",
    "\n"
   ]
  },
  {
   "cell_type": "code",
   "execution_count": null,
   "id": "28e23d5d",
   "metadata": {},
   "outputs": [
    {
     "name": "stdout",
     "output_type": "stream",
     "text": [
      "const              17.297660\n",
      "ExperienceYears     0.354119\n",
      "TrainingHours       0.147408\n",
      "dtype: float64\n",
      "const              3.110226e-102\n",
      "ExperienceYears     4.158216e-08\n",
      "TrainingHours       5.561529e-12\n",
      "dtype: float64\n"
     ]
    }
   ],
   "source": [
    "print(regression_model.params)\n",
    "print(regression_model.pvalues)"
   ]
  },
  {
   "cell_type": "code",
   "execution_count": 18,
   "id": "46476ecb",
   "metadata": {},
   "outputs": [
    {
     "name": "stdout",
     "output_type": "stream",
     "text": [
      "                    params        pvalues\n",
      "const            17.297660  3.110226e-102\n",
      "ExperienceYears   0.354119   4.158216e-08\n",
      "TrainingHours     0.147408   5.561529e-12\n"
     ]
    }
   ],
   "source": [
    "results_1=pd.DataFrame({\n",
    "    'params':regression_model.params,\n",
    "    'pvalues':regression_model.pvalues\n",
    "})\n",
    "print(results_1.head())"
   ]
  },
  {
   "cell_type": "code",
   "execution_count": 20,
   "id": "a736e139",
   "metadata": {},
   "outputs": [
    {
     "name": "stdout",
     "output_type": "stream",
     "text": [
      "0    22.010651\n",
      "1    20.871711\n",
      "2    23.166023\n",
      "3    22.186012\n",
      "4    20.842059\n",
      "dtype: float64\n"
     ]
    }
   ],
   "source": [
    "y_pred=regression_model.predict(X)\n",
    "print(y_pred.head())"
   ]
  },
  {
   "cell_type": "code",
   "execution_count": 28,
   "id": "b5c7e88f",
   "metadata": {},
   "outputs": [
    {
     "name": "stdout",
     "output_type": "stream",
     "text": [
      "     actual_values  predicted_values  residuales\n",
      "0             20.0         22.010651   -2.010651\n",
      "1             25.8         20.871711    4.928289\n",
      "2             20.2         23.166023   -2.966023\n",
      "3             24.2         22.186012    2.013988\n",
      "4             20.0         20.842059   -0.842059\n",
      "..             ...               ...         ...\n",
      "495           20.0         22.582152   -2.582152\n",
      "496           20.0         23.054876   -3.054876\n",
      "497           20.0         24.004387   -4.004387\n",
      "498           20.0         21.668053   -1.668053\n",
      "499           20.4         21.615360   -1.215360\n",
      "\n",
      "[500 rows x 3 columns]\n"
     ]
    }
   ],
   "source": [
    "results_2=pd.DataFrame({\n",
    "    'actual_values':Y,\n",
    "    'predicted_values':y_pred,\n",
    "    'residuales':(Y-y_pred)\n",
    "})\n",
    "print(results_2)"
   ]
  },
  {
   "cell_type": "code",
   "execution_count": 36,
   "id": "388074c7",
   "metadata": {},
   "outputs": [],
   "source": [
    "import matplotlib.pyplot as plt"
   ]
  },
  {
   "cell_type": "code",
   "execution_count": 40,
   "id": "cf16d7cd",
   "metadata": {},
   "outputs": [
    {
     "name": "stdout",
     "output_type": "stream",
     "text": [
      "  Department  ExperienceYears  TrainingHours  PerformanceScore\n",
      "0         HR              5.4             19              20.0\n",
      "1      Sales              2.6             18              25.8\n",
      "2      Sales              4.5             29              20.2\n",
      "3      Sales              0.9             31              24.2\n",
      "4      Sales              2.1             19              20.0\n"
     ]
    }
   ],
   "source": [
    "print(data.head())\n"
   ]
  },
  {
   "cell_type": "code",
   "execution_count": 45,
   "id": "01be97be",
   "metadata": {},
   "outputs": [
    {
     "ename": "NameError",
     "evalue": "name 'ExperienceYears' is not defined",
     "output_type": "error",
     "traceback": [
      "\u001b[31m---------------------------------------------------------------------------\u001b[39m",
      "\u001b[31mNameError\u001b[39m                                 Traceback (most recent call last)",
      "\u001b[36mCell\u001b[39m\u001b[36m \u001b[39m\u001b[32mIn[45]\u001b[39m\u001b[32m, line 3\u001b[39m\n\u001b[32m      1\u001b[39m plt.figure(figsize=(\u001b[32m6\u001b[39m,\u001b[32m2\u001b[39m))\n\u001b[32m      2\u001b[39m plt.title(\u001b[33m'\u001b[39m\u001b[33mfplot\u001b[39m\u001b[33m'\u001b[39m)\n\u001b[32m----> \u001b[39m\u001b[32m3\u001b[39m plt.xlabel(\u001b[33m'\u001b[39m\u001b[33mExperienceYear\u001b[39m\u001b[33m'\u001b[39m,data[\u001b[43mExperienceYears\u001b[49m])\n\u001b[32m      4\u001b[39m plt.ylabel(\u001b[33m'\u001b[39m\u001b[33mPerformanceScore\u001b[39m\u001b[33m'\u001b[39m,data,[PerformanceScore])\n\u001b[32m      5\u001b[39m plt.grid(\u001b[38;5;28;01mTrue\u001b[39;00m)\n",
      "\u001b[31mNameError\u001b[39m: name 'ExperienceYears' is not defined"
     ]
    },
    {
     "data": {
      "image/png": "[encoded data removed]",
      "text/plain": [
       "<Figure size 600x200 with 1 Axes>"
      ]
     },
     "metadata": {},
     "output_type": "display_data"
    }
   ],
   "source": [
    "plt.figure(figsize=(6,2))\n",
    "plt.title('fplot')\n",
    "plt.xlabel('ExperienceYear',data[ExperienceYears])\n",
    "plt.ylabel('PerformanceScore',data,[PerformanceScore])\n",
    "plt.grid(True)\n",
    "plt.show()"
   ]
  },
  {
   "cell_type": "code",
   "execution_count": null,
   "id": "e5d7c3f0",
   "metadata": {},
   "outputs": [
    {
     "data": {
      "image/png": "[encoded data removed]",
      "text/plain": [
       "<Figure size 600x200 with 1 Axes>"
      ]
     },
     "metadata": {},
     "output_type": "display_data"
    }
   ],
   "source": [
    "plt.figure(figsize=(6,2))\n",
    "plt.plot(data['ExperienceYears'], color='blue')\n",
    "plt.title('fplot')\n",
    "plt.xlabel('ExperienceYear')\n",
    "plt.grid(True)\n",
    "plt.show()\n"
   ]
  },
  {
   "cell_type": "code",
   "execution_count": null,
   "id": "0f15d987",
   "metadata": {},
   "outputs": [],
   "source": [
    "actual_values=data['actual_values']"
   ]
  },
  {
   "cell_type": "code",
   "execution_count": 35,
   "id": "94f0c937",
   "metadata": {},
   "outputs": [
    {
     "ename": "NameError",
     "evalue": "name 'actual_values' is not defined",
     "output_type": "error",
     "traceback": [
      "\u001b[31m---------------------------------------------------------------------------\u001b[39m",
      "\u001b[31mNameError\u001b[39m                                 Traceback (most recent call last)",
      "\u001b[36mCell\u001b[39m\u001b[36m \u001b[39m\u001b[32mIn[35]\u001b[39m\u001b[32m, line 1\u001b[39m\n\u001b[32m----> \u001b[39m\u001b[32m1\u001b[39m plt.scatter(\u001b[43mactual_values\u001b[49m)\n",
      "\u001b[31mNameError\u001b[39m: name 'actual_values' is not defined"
     ]
    }
   ],
   "source": [
    "plt.scatter(actual_values)"
   ]
  },
  {
   "cell_type": "code",
   "execution_count": 18,
   "id": "16640cae",
   "metadata": {},
   "outputs": [
    {
     "name": "stdout",
     "output_type": "stream",
     "text": [
      "ExperienceYears    1.306312\n",
      "TrainingHours      0.618637\n",
      "dtype: float64\n",
      "ExperienceYears     4.537033e-44\n",
      "TrainingHours      4.242503e-125\n",
      "dtype: float64\n"
     ]
    }
   ],
   "source": [
    "print(regression_model.params)\n",
    "print(regression_model.pvalues)\n"
   ]
  },
  {
   "cell_type": "code",
   "execution_count": 21,
   "id": "24f17ee6",
   "metadata": {},
   "outputs": [
    {
     "name": "stdout",
     "output_type": "stream",
     "text": [
      "                            OLS Regression Results                            \n",
      "==============================================================================\n",
      "Dep. Variable:       PerformanceScore   R-squared:                       0.133\n",
      "Model:                            OLS   Adj. R-squared:                  0.129\n",
      "Method:                 Least Squares   F-statistic:                     38.01\n",
      "Date:                Sun, 26 Oct 2025   Prob (F-statistic):           4.38e-16\n",
      "Time:                        16:53:10   Log-Likelihood:                -1425.7\n",
      "No. Observations:                 500   AIC:                             2857.\n",
      "Df Residuals:                     497   BIC:                             2870.\n",
      "Df Model:                           2                                         \n",
      "Covariance Type:            nonrobust                                         \n",
      "===================================================================================\n",
      "                      coef    std err          t      P>|t|      [0.025      0.975]\n",
      "-----------------------------------------------------------------------------------\n",
      "const              17.2977      0.627     27.574      0.000      16.065      18.530\n",
      "ExperienceYears     0.3541      0.064      5.571      0.000       0.229       0.479\n",
      "TrainingHours       0.1474      0.021      7.062      0.000       0.106       0.188\n",
      "==============================================================================\n",
      "Omnibus:                      182.859   Durbin-Watson:                   1.966\n",
      "Prob(Omnibus):                  0.000   Jarque-Bera (JB):              537.251\n",
      "Skew:                           1.782   Prob(JB):                    2.17e-117\n",
      "Kurtosis:                       6.617   Cond. No.                         86.0\n",
      "==============================================================================\n",
      "\n",
      "Notes:\n",
      "[1] Standard Errors assume that the covariance matrix of the errors is correctly specified.\n"
     ]
    }
   ],
   "source": [
    "print((regression_model.summary()))"
   ]
  },
  {
   "cell_type": "code",
   "execution_count": 22,
   "id": "d7d43075",
   "metadata": {},
   "outputs": [],
   "source": [
    "import statsmodels.api as smf\n"
   ]
  },
  {
   "cell_type": "code",
   "execution_count": 23,
   "id": "93bf4dd1",
   "metadata": {},
   "outputs": [
    {
     "name": "stdout",
     "output_type": "stream",
     "text": [
      "                            OLS Regression Results                            \n",
      "==============================================================================\n",
      "Dep. Variable:       PerformanceScore   R-squared:                       0.133\n",
      "Model:                            OLS   Adj. R-squared:                  0.129\n",
      "Method:                 Least Squares   F-statistic:                     38.01\n",
      "Date:                Sun, 26 Oct 2025   Prob (F-statistic):           4.38e-16\n",
      "Time:                        16:53:58   Log-Likelihood:                -1425.7\n",
      "No. Observations:                 500   AIC:                             2857.\n",
      "Df Residuals:                     497   BIC:                             2870.\n",
      "Df Model:                           2                                         \n",
      "Covariance Type:            nonrobust                                         \n",
      "===================================================================================\n",
      "                      coef    std err          t      P>|t|      [0.025      0.975]\n",
      "-----------------------------------------------------------------------------------\n",
      "const              17.2977      0.627     27.574      0.000      16.065      18.530\n",
      "ExperienceYears     0.3541      0.064      5.571      0.000       0.229       0.479\n",
      "TrainingHours       0.1474      0.021      7.062      0.000       0.106       0.188\n",
      "==============================================================================\n",
      "Omnibus:                      182.859   Durbin-Watson:                   1.966\n",
      "Prob(Omnibus):                  0.000   Jarque-Bera (JB):              537.251\n",
      "Skew:                           1.782   Prob(JB):                    2.17e-117\n",
      "Kurtosis:                       6.617   Cond. No.                         86.0\n",
      "==============================================================================\n",
      "\n",
      "Notes:\n",
      "[1] Standard Errors assume that the covariance matrix of the errors is correctly specified.\n"
     ]
    }
   ],
   "source": [
    "print(regression_model.summary())"
   ]
  },
  {
   "cell_type": "code",
   "execution_count": null,
   "id": "4058acb6",
   "metadata": {},
   "outputs": [
    {
     "name": "stdout",
     "output_type": "stream",
     "text": [
      "const              17.297660\n",
      "ExperienceYears     0.354119\n",
      "TrainingHours       0.147408\n",
      "dtype: float64\n",
      "const              3.110226e-102\n",
      "ExperienceYears     4.158216e-08\n",
      "TrainingHours       5.561529e-12\n",
      "dtype: float64\n"
     ]
    }
   ],
   "source": [
    "print(regression_model.params)\n",
    "print(regression_model.pvalues)\n",
    "\n"
   ]
  },
  {
   "cell_type": "code",
   "execution_count": 36,
   "id": "2d27ab4a",
   "metadata": {},
   "outputs": [
    {
     "name": "stdout",
     "output_type": "stream",
     "text": [
      "                    params       p_values\n",
      "const            17.297660  3.110226e-102\n",
      "ExperienceYears   0.354119   4.158216e-08\n",
      "TrainingHours     0.147408   5.561529e-12\n"
     ]
    }
   ],
   "source": [
    "import pandas as pd\n",
    "\n",
    "results = pd.DataFrame({\n",
    "    'params': regression_model.params,\n",
    "    'p_values': regression_model.pvalues\n",
    "})\n",
    "\n",
    "print(results)\n"
   ]
  },
  {
   "cell_type": "code",
   "execution_count": null,
   "id": "b18d92b3",
   "metadata": {},
   "outputs": [],
   "source": [
    "results=pd.DataFrame({\n",
    "    'params':regressio\n",
    "    \n",
    "    \n",
    "})"
   ]
  },
  {
   "cell_type": "code",
   "execution_count": null,
   "id": "cf38bfb0",
   "metadata": {},
   "outputs": [],
   "source": []
  },
  {
   "cell_type": "code",
   "execution_count": 39,
   "id": "5c45f135",
   "metadata": {},
   "outputs": [
    {
     "name": "stdout",
     "output_type": "stream",
     "text": [
      "                    params       p_values\n",
      "const            17.297660  3.110226e-102\n",
      "ExperienceYears   0.354119   4.158216e-08\n",
      "TrainingHours     0.147408   5.561529e-12\n"
     ]
    }
   ],
   "source": [
    "results = pd.DataFrame({\n",
    "    'params' :regression_model.params,\n",
    "    'p_values':regression_model.pvalues\n",
    "})\n",
    "print(results)"
   ]
  },
  {
   "cell_type": "code",
   "execution_count": null,
   "id": "9d5e9f49",
   "metadata": {},
   "outputs": [
    {
     "name": "stdout",
     "output_type": "stream",
     "text": [
      "0    22.010651\n",
      "1    20.871711\n",
      "2    23.166023\n",
      "3    22.186012\n",
      "4    20.842059\n",
      "dtype: float64\n",
      "0    20.0\n",
      "1    25.8\n",
      "2    20.2\n",
      "3    24.2\n",
      "4    20.0\n",
      "Name: PerformanceScore, dtype: float64\n"
     ]
    }
   ],
   "source": [
    "predicted=regression_model.predict(indep)\n",
    "print(predicted.head())\n",
    "print((dep.head()))\n",
    "\n"
   ]
  },
  {
   "cell_type": "code",
   "execution_count": null,
   "id": "7d4a2806",
   "metadata": {},
   "outputs": [
    {
     "name": "stdout",
     "output_type": "stream",
     "text": [
      "   predicted  actual    errors\n",
      "0  22.010651    20.0 -2.010651\n",
      "1  20.871711    25.8  4.928289\n",
      "2  23.166023    20.2 -2.966023\n",
      "3  22.186012    24.2  2.013988\n",
      "4  20.842059    20.0 -0.842059\n"
     ]
    }
   ],
   "source": [
    "compa=pd.DataFrame({\n",
    "    'predicted':predicted,\n",
    "    'actual':dep,\n",
    "    'errors':dep-predicted\n",
    "})\n",
    "print(compa.head())"
   ]
  },
  {
   "cell_type": "code",
   "execution_count": 59,
   "id": "c5b3a310",
   "metadata": {},
   "outputs": [
    {
     "name": "stdout",
     "output_type": "stream",
     "text": [
      "Mean square errore is equal to: 17.545540251821322\n",
      "Root Mean Square errore  is  equla to : 4.188739697310078\n"
     ]
    }
   ],
   "source": [
    "import numpy as np\n",
    "mse=np.mean((dep-predicted)**2)\n",
    "rmse=np.sqrt(mse)\n",
    "print('Mean square errore is equal to:',mse)\n",
    "print('Root Mean Square errore  is  equla to :',rmse)\n"
   ]
  },
  {
   "cell_type": "code",
   "execution_count": null,
   "id": "31e135f1",
   "metadata": {},
   "outputs": [],
   "source": []
  },
  {
   "cell_type": "code",
   "execution_count": 27,
   "id": "a917d5e2",
   "metadata": {},
   "outputs": [],
   "source": [
    "import sklearn"
   ]
  },
  {
   "cell_type": "code",
   "execution_count": 65,
   "id": "fc2068e5",
   "metadata": {},
   "outputs": [],
   "source": [
    "from sklearn.model_selection import train_test_split\n",
    "from sklearn.linear_model import LinearRegression\n"
   ]
  },
  {
   "cell_type": "code",
   "execution_count": 64,
   "id": "6577974a",
   "metadata": {},
   "outputs": [],
   "source": [
    "from sklearn.model_selection import train_test_split\n",
    "from sklearn.linear_model import LinearRegression"
   ]
  },
  {
   "cell_type": "code",
   "execution_count": 67,
   "id": "d6ebc0b5",
   "metadata": {},
   "outputs": [],
   "source": [
    "x_train,x_test,y_train,y_test=train_test_split(indep,dep,test_size=0.2,random_state=42)\n",
    "model_trained=LinearRegression().fit(x_train,y_train)"
   ]
  },
  {
   "cell_type": "code",
   "execution_count": 100,
   "id": "dcc0806d",
   "metadata": {},
   "outputs": [
    {
     "name": "stdout",
     "output_type": "stream",
     "text": [
      "[21.07161185 23.66981463 20.50208325 22.53413609 21.67332716 21.17541196\n",
      " 23.9908683  23.99183364 22.74270163 21.39025219 24.88289859 21.49839631\n",
      " 21.4969483  22.63841886 24.39029275 24.77668515 22.67494957 23.06665132\n",
      " 23.03012061 21.45655625 21.63969246 24.41427408 23.92552958 22.457696\n",
      " 22.457696   21.28259074 24.09804709 19.14384179 20.78853689 22.13712499\n",
      " 21.20856399 21.49984431 24.13506046 23.74770272 23.24544351 22.6759149\n",
      " 25.09098147 22.49567471 21.28452141 21.57097506 24.63442366 25.02709075\n",
      " 23.28390489 21.7108232  21.03797716 23.17527811 22.13809032 22.63600552\n",
      " 22.81334971 25.63025406 22.02801553 21.49791364 19.78932782 24.91653329\n",
      " 23.31947026 21.21676935 23.10607804 22.13809032 24.05862037 20.64531007\n",
      " 21.39266553 23.70875867 22.77826701 22.06985559 22.89268581 19.64513566\n",
      " 23.03060328 21.85356735 23.84667615 22.21597842 25.02371207 21.46138293\n",
      " 21.9612288  20.50304858 23.7861641  20.74524883 25.62784072 24.42054877\n",
      " 25.52597128 20.85001427 20.18102957 24.41765276 22.52737873 19.78932782\n",
      " 23.706828   22.24140776 21.78098861 27.20237041 22.67108822 21.88671938\n",
      " 20.21466427 20.78467554 19.43029543 21.39218286 22.28710916 23.06616865\n",
      " 25.09387748 23.63521459 25.05976011 25.34621375]\n"
     ]
    }
   ],
   "source": [
    "y_pred=model_trained.predict(x_test)\n",
    "print(y_pred)"
   ]
  },
  {
   "cell_type": "code",
   "execution_count": 101,
   "id": "5e36b940",
   "metadata": {},
   "outputs": [],
   "source": [
    "\n",
    "from sklearn.metrics import mean_squared_error\n",
    "from sklearn.metrics import r2_score"
   ]
  },
  {
   "cell_type": "code",
   "execution_count": 1,
   "id": "c6a2494d",
   "metadata": {},
   "outputs": [],
   "source": [
    "import pandas as pd\n"
   ]
  },
  {
   "cell_type": "code",
   "execution_count": 3,
   "id": "5ae9446a",
   "metadata": {},
   "outputs": [
    {
     "name": "stdout",
     "output_type": "stream",
     "text": [
      "     Department  ExperienceYears  TrainingHours  PerformanceScore\n",
      "0            HR              5.4             19              20.0\n",
      "1         Sales              2.6             18              25.8\n",
      "2         Sales              4.5             29              20.2\n",
      "3         Sales              0.9             31              24.2\n",
      "4         Sales              2.1             19              20.0\n",
      "..          ...              ...            ...               ...\n",
      "495     Finance              4.1             26              20.0\n",
      "496   Marketing              7.1             22              20.0\n",
      "497       Sales              7.7             27              20.0\n",
      "498  Operations              3.6             21              20.0\n",
      "499       Sales              4.7             18              20.4\n",
      "\n",
      "[500 rows x 4 columns]\n"
     ]
    }
   ],
   "source": [
    "data=pd.read_csv('manag.csv',sep=';')\n",
    "print(data)"
   ]
  },
  {
   "cell_type": "code",
   "execution_count": 106,
   "id": "e820860c",
   "metadata": {},
   "outputs": [
    {
     "name": "stdout",
     "output_type": "stream",
     "text": [
      "MSE: 11.8242\n",
      "RMSE: 3.4386\n"
     ]
    }
   ],
   "source": [
    "from sklearn.metrics import mean_squared_error\n",
    "import numpy as np\n",
    "\n",
    "# حساب MSE و RMSE\n",
    "mse = mean_squared_error(y_test, y_pred)\n",
    "rmse = np.sqrt(mse)\n",
    "\n",
    "print(\"MSE:\", round(mse, 4))\n",
    "print(\"RMSE:\", round(rmse, 4))\n"
   ]
  }
 ],
 "metadata": {
  "kernelspec": {
   "display_name": "Python 3",
   "language": "python",
   "name": "python3"
  },
  "language_info": {
   "codemirror_mode": {
    "name": "ipython",
    "version": 3
   },
   "file_extension": ".py",
   "mimetype": "text/x-python",
   "name": "python",
   "nbconvert_exporter": "python",
   "pygments_lexer": "ipython3",
   "version": "3.11.9"
  }
 },
 "nbformat": 4,
 "nbformat_minor": 5
}
